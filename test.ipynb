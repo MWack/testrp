{
 "cells": [
  {
   "cell_type": "code",
   "execution_count": 14,
   "metadata": {
    "collapsed": true
   },
   "outputs": [
    {
     "name": "stdout",
     "output_type": "stream",
     "text": [
      "Welcome to RockPy without RockPy\nHave fun ... \n"
     ]
    }
   ],
   "source": [
    "print('Welcome to RockPy without RockPy')\n",
    "print('Have fun ... ')"
   ]
  },
  {
   "cell_type": "code",
   "execution_count": 15,
   "metadata": {},
   "outputs": [
    {
     "data": {
      "text/plain": [
       "2"
      ]
     },
     "execution_count": 15,
     "metadata": {},
     "output_type": "execute_result"
    }
   ],
   "source": [
    "1+1"
   ]
  },
  {
   "cell_type": "code",
   "execution_count": 16,
   "metadata": {},
   "outputs": [],
   "source": [
    "%matplotlib inline"
   ]
  },
  {
   "cell_type": "code",
   "execution_count": 17,
   "metadata": {},
   "outputs": [],
   "source": [
    "import matplotlib.pyplot as plt"
   ]
  },
  {
   "cell_type": "code",
   "execution_count": 19,
   "metadata": {},
   "outputs": [
    {
     "data": {
      "text/plain": [
       "[<matplotlib.lines.Line2D at 0x7f1c07df4e80>]"
      ]
     },
     "execution_count": 19,
     "metadata": {},
     "output_type": "execute_result"
    },
    {
     "data": {
      "image/png": "[encoded data removed]",
      "text/plain": [
       "<matplotlib.figure.Figure at 0x7f1c07e56908>"
      ]
     },
     "metadata": {},
     "output_type": "display_data"
    }
   ],
   "source": [
    "plt.plot([1,2,3],[4,8,6])"
   ]
  },
  {
   "cell_type": "code",
   "execution_count": 1,
   "metadata": {},
   "outputs": [
    {
     "ename": "NameError",
     "evalue": "name 'plt' is not defined",
     "traceback": [
      "\u001b[0;31m---------------------------------------------------------------------------\u001b[0m",
      "\u001b[0;31mNameError\u001b[0m                                 Traceback (most recent call last)",
      "\u001b[0;32m<ipython-input-1-20ae4d076ec2>\u001b[0m in \u001b[0;36m<module>\u001b[0;34m()\u001b[0m\n\u001b[1;32m     20\u001b[0m \u001b[0;34m\u001b[0m\u001b[0m\n\u001b[1;32m     21\u001b[0m \u001b[0;31m# plot azimuth labels, with a North label.\u001b[0m\u001b[0;34m\u001b[0m\u001b[0;34m\u001b[0m\u001b[0m\n\u001b[0;32m---> 22\u001b[0;31m \u001b[0max\u001b[0m \u001b[0;34m=\u001b[0m \u001b[0mplt\u001b[0m\u001b[0;34m.\u001b[0m\u001b[0mgca\u001b[0m\u001b[0;34m(\u001b[0m\u001b[0;34m)\u001b[0m\u001b[0;34m\u001b[0m\u001b[0m\n\u001b[0m\u001b[1;32m     23\u001b[0m \u001b[0max\u001b[0m\u001b[0;34m.\u001b[0m\u001b[0mtext\u001b[0m\u001b[0;34m(\u001b[0m\u001b[0;36m0.5\u001b[0m\u001b[0;34m,\u001b[0m\u001b[0;36m1.025\u001b[0m\u001b[0;34m,\u001b[0m\u001b[0;34m'N'\u001b[0m\u001b[0;34m,\u001b[0m\u001b[0mtransform\u001b[0m\u001b[0;34m=\u001b[0m\u001b[0max\u001b[0m\u001b[0;34m.\u001b[0m\u001b[0mtransAxes\u001b[0m\u001b[0;34m,\u001b[0m\u001b[0mhorizontalalignment\u001b[0m\u001b[0;34m=\u001b[0m\u001b[0;34m'center'\u001b[0m\u001b[0;34m,\u001b[0m\u001b[0mverticalalignment\u001b[0m\u001b[0;34m=\u001b[0m\u001b[0;34m'bottom'\u001b[0m\u001b[0;34m,\u001b[0m\u001b[0msize\u001b[0m\u001b[0;34m=\u001b[0m\u001b[0;36m25\u001b[0m\u001b[0;34m)\u001b[0m\u001b[0;34m\u001b[0m\u001b[0m\n\u001b[1;32m     24\u001b[0m \u001b[0;32mfor\u001b[0m \u001b[0mpara\u001b[0m \u001b[0;32min\u001b[0m \u001b[0mnp\u001b[0m\u001b[0;34m.\u001b[0m\u001b[0marange\u001b[0m\u001b[0;34m(\u001b[0m\u001b[0mgridY\u001b[0m\u001b[0;34m,\u001b[0m\u001b[0;36m360\u001b[0m\u001b[0;34m,\u001b[0m\u001b[0mgridY\u001b[0m\u001b[0;34m)\u001b[0m\u001b[0;34m:\u001b[0m\u001b[0;34m\u001b[0m\u001b[0m\n",
      "\u001b[0;31mNameError\u001b[0m: name 'plt' is not defined"
     ],
     "output_type": "error"
    }
   ],
   "source": [
    "from mpl_toolkits.basemap import Basemap\n",
    "import numpy as np\n",
    "\n",
    "winterAzi = np.array([10,20,30])\n",
    "winterAlt = np.array([10,20,30])\n",
    "\n",
    "# create instance of basemap, note we want a south polar projection to 90 = E\n",
    "myMap = Basemap(projection='spstere',boundinglat=0,lon_0=180,resolution='l',round=True,suppress_ticks=True)\n",
    "# set the grid up\n",
    "gridX,gridY = 10.0,15.0\n",
    "parallelGrid = np.arange(-90.0,90.0,gridX)\n",
    "meridianGrid = np.arange(-180.0,180.0,gridY)\n",
    "\n",
    "# draw parallel and meridian grid, not labels are off. We have to manually create these.\n",
    "myMap.drawparallels(parallelGrid,labels=[False,False,False,False])\n",
    "myMap.drawmeridians(meridianGrid,labels=[False,False,False,False],labelstyle='+/-',fmt='%i')\n",
    "\n",
    "# we have to send our values through basemap to convert coordinates, note -winterAlt\n",
    "winterX,winterY = myMap(winterAzi,-winterAlt)\n",
    "\n",
    "# plot azimuth labels, with a North label.\n",
    "ax = plt.gca()\n",
    "ax.text(0.5,1.025,'N',transform=ax.transAxes,horizontalalignment='center',verticalalignment='bottom',size=25)\n",
    "for para in np.arange(gridY,360,gridY):\n",
    "    x= (1.1*0.5*np.sin(np.deg2rad(para)))+0.5\n",
    "    y= (1.1*0.5*np.cos(np.deg2rad(para)))+0.5\n",
    "    ax.text(x,y,u'%i\\N{DEGREE SIGN}'%para,transform=ax.transAxes,horizontalalignment='center',verticalalignment='center')\n",
    "\n",
    "\n",
    "# plot the winter values\n",
    "myMap.plot(winterX,winterY ,'bo')\n",
    "\n",
    "# make up some data on a regular lat/lon grid.\n",
    "nlats = 73; nlons = 145; delta = 2.*np.pi/(nlons-1)\n",
    "lats = (0.5*np.pi-delta*np.indices((nlats,nlons))[0,:,:])\n",
    "lons = (delta*np.indices((nlats,nlons))[1,:,:])\n",
    "wave = 0.75*(np.sin(2.*lats)**8*np.cos(4.*lons))\n",
    "mean = 0.5*np.cos(2.*lats)*((np.sin(2.*lats))**2 + 2.)\n",
    "# compute native map projection coordinates of lat/lon grid.\n",
    "x, y = myMap(lons*180./np.pi, lats*180./np.pi)\n",
    "# contour data over the map.\n",
    "cs = myMap.contour(x,y,wave+mean,15,linewidths=1.5)"
   ]
  },
  {
   "cell_type": "code",
   "execution_count": 2,
   "metadata": {},
   "outputs": [],
   "source": [
    "input_form = \"\"\"\n",
    "<div style=\"border:solid navy; padding:20px;\">\n",
    "<input type=\"file\" id=\"file_selector\" name=\"files[]\"/>\n",
    "<output id=\"list\"></output>\n",
    "</div>\n",
    "\"\"\"\n",
    "\n",
    "javascript = \"\"\"\n",
    "<script type=\"text/Javascript\">\n",
    "  function handleFileSelect(evt) {\n",
    "    var kernel = IPython.notebook.kernel;\n",
    "    var files = evt.target.files; // FileList object\n",
    "    console.log('Executing orig')\n",
    "    console.log(files)\n",
    "    // files is a FileList of File objects. List some properties.\n",
    "    var output = [];\n",
    "    var f = files[0]\n",
    "    \n",
    "    \n",
    "    var r = new FileReader();\n",
    "            r.onload = (function (f) {\n",
    "                return function (e) {\n",
    "                    var contents = e.target.result;\n",
    "                    //alert(contents);\n",
    "                    var command = 'fcont = \"' + '\"' + '\"' + contents + '\"'+'\"'+'\"'\n",
    "                    alert(command)\n",
    "                    console.log(command)\n",
    "                    kernel.execute(command);\n",
    "                };\n",
    "            })(f);\n",
    "            r.readAsText(f);\n",
    "            \n",
    "    output.push('<li><strong>', escape(f.name), '</strong> (', f.type || 'n/a', ') - ',\n",
    "                  f.size, ' bytes, last modified: ',\n",
    "                  f.lastModifiedDate ? f.lastModifiedDate.toLocaleDateString() : 'n/a',\n",
    "                  '</_Mli>');        \n",
    "    \n",
    "    document.getElementById('list').innerHTML = '<ul>' + output.join('') + '</ul>';\n",
    "    var command = 'fname = \"' + f.name + '\"'\n",
    "    console.log(command)\n",
    "    kernel.execute(command);\n",
    "  }\n",
    "\n",
    "  document.getElementById('file_selector').addEventListener('change', handleFileSelect, false);\n",
    "</script>\n",
    "\"\"\"\n",
    "\n",
    "def file_selector():\n",
    "    from IPython.display import HTML, display\n",
    "    display(HTML(input_form + javascript))\n",
    "    #return fname"
   ]
  },
  {
   "cell_type": "code",
   "execution_count": 3,
   "metadata": {},
   "outputs": [
    {
     "data": {
      "text/html": [
       "\n",
       "<div style=\"border:solid navy; padding:20px;\">\n",
       "<input type=\"file\" id=\"file_selector\" name=\"files[]\"/>\n",
       "<output id=\"list\"></output>\n",
       "</div>\n",
       "\n",
       "<script type=\"text/Javascript\">\n",
       "  function handleFileSelect(evt) {\n",
       "    var kernel = IPython.notebook.kernel;\n",
       "    var files = evt.target.files; // FileList object\n",
       "    console.log('Executing orig')\n",
       "    console.log(files)\n",
       "    // files is a FileList of File objects. List some properties.\n",
       "    var output = [];\n",
       "    var f = files[0]\n",
       "    \n",
       "    \n",
       "    var r = new FileReader();\n",
       "            r.onload = (function (f) {\n",
       "                return function (e) {\n",
       "                    var contents = e.target.result;\n",
       "                    //alert(contents);\n",
       "                    var command = 'fcont = \"' + '\"' + '\"' + contents + '\"'+'\"'+'\"'\n",
       "                    alert(command)\n",
       "                    console.log(command)\n",
       "                    kernel.execute(command);\n",
       "                };\n",
       "            })(f);\n",
       "            r.readAsText(f);\n",
       "            \n",
       "    output.push('<li><strong>', escape(f.name), '</strong> (', f.type || 'n/a', ') - ',\n",
       "                  f.size, ' bytes, last modified: ',\n",
       "                  f.lastModifiedDate ? f.lastModifiedDate.toLocaleDateString() : 'n/a',\n",
       "                  '</_Mli>');        \n",
       "    \n",
       "    document.getElementById('list').innerHTML = '<ul>' + output.join('') + '</ul>';\n",
       "    var command = 'fname = \"' + f.name + '\"'\n",
       "    console.log(command)\n",
       "    kernel.execute(command);\n",
       "  }\n",
       "\n",
       "  document.getElementById('file_selector').addEventListener('change', handleFileSelect, false);\n",
       "</script>\n"
      ],
      "text/plain": [
       "\n",
       "<div style=\"border:solid navy; padding:20px;\">\n",
       "<input type=\"file\" id=\"file_selector\" name=\"files[]\"/>\n",
       "<output id=\"list\"></output>\n",
       "</div>\n",
       "\n",
       "<script type=\"text/Javascript\">\n",
       "  function handleFileSelect(evt) {\n",
       "    var kernel = IPython.notebook.kernel;\n",
       "    var files = evt.target.files; // FileList object\n",
       "    console.log('Executing orig')\n",
       "    console.log(files)\n",
       "    // files is a FileList of File objects. List some properties.\n",
       "    var output = [];\n",
       "    var f = files[0]\n",
       "    \n",
       "    \n",
       "    var r = new FileReader();\n",
       "            r.onload = (function (f) {\n",
       "                return function (e) {\n",
       "                    var contents = e.target.result;\n",
       "                    //alert(contents);\n",
       "                    var command = 'fcont = \"' + '\"' + '\"' + contents + '\"'+'\"'+'\"'\n",
       "                    alert(command)\n",
       "                    console.log(command)\n",
       "                    kernel.execute(command);\n",
       "                };\n",
       "            })(f);\n",
       "            r.readAsText(f);\n",
       "            \n",
       "    output.push('<li><strong>', escape(f.name), '</strong> (', f.type || 'n/a', ') - ',\n",
       "                  f.size, ' bytes, last modified: ',\n",
       "                  f.lastModifiedDate ? f.lastModifiedDate.toLocaleDateString() : 'n/a',\n",
       "                  '</_Mli>');        \n",
       "    \n",
       "    document.getElementById('list').innerHTML = '<ul>' + output.join('') + '</ul>';\n",
       "    var command = 'fname = \"' + f.name + '\"'\n",
       "    console.log(command)\n",
       "    kernel.execute(command);\n",
       "  }\n",
       "\n",
       "  document.getElementById('file_selector').addEventListener('change', handleFileSelect, false);\n",
       "</script>\n"
      ]
     },
     "execution_count": 0,
     "metadata": {},
     "output_type": "execute_result"
    }
   ],
   "source": [
    "file_selector()"
   ]
  },
  {
   "cell_type": "code",
   "execution_count": null,
   "metadata": {},
   "outputs": [],
   "source": [
    ""
   ]
  }
 ],
 "metadata": {
  "kernelspec": {
   "display_name": "Python 2",
   "language": "python",
   "name": "python2"
  },
  "language_info": {
   "codemirror_mode": {
    "name": "ipython",
    "version": 2.0
   },
   "file_extension": ".py",
   "mimetype": "text/x-python",
   "name": "python",
   "nbconvert_exporter": "python",
   "pygments_lexer": "ipython2",
   "version": "2.7.6"
  }
 },
 "nbformat": 4,
 "nbformat_minor": 0
}