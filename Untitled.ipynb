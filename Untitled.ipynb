{
 "cells": [
  {
   "cell_type": "code",
   "execution_count": 12,
   "metadata": {
    "collapsed": true
   },
   "outputs": [],
   "source": [
    "import base64\n",
    "\n",
    "try:\n",
    "    from io import StringIO\n",
    "except ImportError:\n",
    "    from StringIO import StringIO\n",
    "\n",
    "import pandas\n",
    "\n",
    "from traitlets import Unicode, Instance, observe\n",
    "from ipywidgets import DOMWidget\n",
    "from IPython import display"
   ]
  },
  {
   "cell_type": "code",
   "execution_count": 13,
   "metadata": {
    "collapsed": false
   },
   "outputs": [
    {
     "data": {
      "text/html": [
       "<style>\n",
       "    .uploader-widget{\n",
       "        border: dashed 2px grey;\n",
       "        opacity: 0.5;\n",
       "        background-color: #efefef;\n",
       "        color: grey;\n",
       "        position: relative;\n",
       "    }\n",
       "    .uploader-widget.uploader-dragged {\n",
       "        background-color: #333;\n",
       "        color: white;\n",
       "    }\n",
       "    .uploader-widget input{\n",
       "        opacity: 0;\n",
       "        width: 100%;\n",
       "        position: absolute;\n",
       "        width: 100%;\n",
       "        height: 100%;\n",
       "        top: 0;\n",
       "    }\n",
       "    .uploader-widget h3 {\n",
       "        text-align: center;\n",
       "        margin: 0;\n",
       "        padding: 20px;\n",
       "    }\n",
       "</style>"
      ],
      "text/plain": [
       "<IPython.core.display.HTML object>"
      ]
     },
     "metadata": {},
     "output_type": "execute_result"
    }
   ],
   "source": [
    "%%html\n",
    "<style>\n",
    "    .uploader-widget{\n",
    "        border: dashed 2px grey;\n",
    "        opacity: 0.5;\n",
    "        background-color: #efefef;\n",
    "        color: grey;\n",
    "        position: relative;\n",
    "    }\n",
    "    .uploader-widget.uploader-dragged {\n",
    "        background-color: #333;\n",
    "        color: white;\n",
    "    }\n",
    "    .uploader-widget input{\n",
    "        opacity: 0;\n",
    "        width: 100%;\n",
    "        position: absolute;\n",
    "        width: 100%;\n",
    "        height: 100%;\n",
    "        top: 0;\n",
    "    }\n",
    "    .uploader-widget h3 {\n",
    "        text-align: center;\n",
    "        margin: 0;\n",
    "        padding: 20px;\n",
    "    }\n",
    "</style>"
   ]
  },
  {
   "cell_type": "code",
   "execution_count": 14,
   "metadata": {
    "collapsed": false
   },
   "outputs": [
    {
     "data": {
      "text/plain": [
       "<IPython.core.display.Javascript object>"
      ]
     },
     "metadata": {},
     "output_type": "display_data"
    }
   ],
   "source": [
    "%%javascript\n",
    "require.undef(\"widget-uploader\")\n",
    "define(\n",
    "\"widget-uploader\",\n",
    "[\n",
    "    \"underscore\",\n",
    "    \"jquery\",\n",
    "    \"nbextensions/widgets/widgets/js/widget\"\n",
    "],\n",
    "function(_, $, widget){\n",
    "    var UploaderView = widget.DOMWidgetView.extend({\n",
    "        className: \"uploader-widget\",\n",
    "        events: {\n",
    "            dragenter: \"onDragEnter\",\n",
    "            dragleave: \"onDragLeave\",\n",
    "            drop: \"onDrop\",\n",
    "            \"change input\": \"onChangeInput\"\n",
    "        },\n",
    "        \n",
    "        render: function(){\n",
    "            var that = this;\n",
    "\n",
    "            this.$label = $(\"<h3/>\").appendTo(this.$el);\n",
    "\n",
    "            this.$fileField = $(\"<input/>\", {type: \"file\"})\n",
    "                .appendTo(this.$el);\n",
    "\n",
    "            this.update();\n",
    "        },\n",
    "        onChangeInput: function(){\n",
    "            this.setFile(this.$fileField[0].files[0]);\n",
    "        },\n",
    "        setFile: function(file){\n",
    "            var reader  = new FileReader();\n",
    "\n",
    "            reader.addEventListener(\"load\", _.bind(function(){\n",
    "                this.model.set(\"base64_data\", reader.result);\n",
    "                this.touch();\n",
    "            }, this), false);\n",
    "\n",
    "            reader.readAsDataURL(file);\n",
    "        },\n",
    "        update: function() {\n",
    "            this.$label.text(this.model.get(\"label\"));\n",
    "        },\n",
    "                                                   \n",
    "        onDragEnter: function(evt){ this.$el.addClass(\"uploader-dragged\"); console.log(evt);},\n",
    "        onDragLeave: function(evt){ this.$el.removeClass(\"uploader-dragged\"); console.log(evt);},\n",
    "        onDrop: function(evt){\n",
    "            evt.preventDefault();\n",
    "            evt.stopImmediatePropagation();\n",
    "            this.$el.removeClass(\"uploader-dragged\");\n",
    "            console.log(evt);\n",
    "            this.setFile(evt.originalEvent.dataTransfer.files[0]);\n",
    "        }\n",
    "    });\n",
    "    return {\n",
    "        UploaderView: UploaderView\n",
    "    }\n",
    "});"
   ]
  },
  {
   "cell_type": "code",
   "execution_count": 15,
   "metadata": {
    "collapsed": true
   },
   "outputs": [],
   "source": [
    "class BaseUploaderWidget(DOMWidget):\n",
    "    _view_module = Unicode(\"widget-uploader\").tag(sync=True)\n",
    "    _view_name = Unicode(\"UploaderView\").tag(sync=True)\n",
    "    base64_data = Unicode().tag(sync=True)\n",
    "    label = Unicode(\"Upload a File\").tag(sync=True)\n",
    "    \n",
    "    @observe(\"base64_data\")\n",
    "    def _update_label(self, change):\n",
    "        self.label = self._label() or self.label\n",
    "    \n",
    "    def _label(self):\n",
    "        return \"{} bytes uploaded {}\".format(\n",
    "            len(self.base64_data),\n",
    "            self.base64_data.split(\";\")[0])\n",
    "\n",
    "uploader = BaseUploaderWidget()\n",
    "uploader"
   ]
  },
  {
   "cell_type": "code",
   "execution_count": 16,
   "metadata": {
    "collapsed": true
   },
   "outputs": [],
   "source": [
    "class CSVUploader(BaseUploaderWidget):\n",
    "    dataframe = Instance(klass=pandas.DataFrame, allow_none=True)\n",
    "    label = Unicode(\"Upload a CSV File\").tag(sync=True)\n",
    "    \n",
    "    def _label(self):\n",
    "        self.label = \"{} rows by {} columns\".format(\n",
    "            len(self.dataframe),\n",
    "            len(self.dataframe.columns),\n",
    "        )\n",
    "\n",
    "    @observe(\"base64_data\")\n",
    "    def _update_dataframe(self, new):\n",
    "        csv = StringIO()\n",
    "        csv.write(u\"{}\".format(base64.decodestring(self.base64_data.split(\",\")[1])))\n",
    "        csv.seek(0)\n",
    "        self.dataframe = pandas.read_csv(csv)"
   ]
  },
  {
   "cell_type": "code",
   "execution_count": 6,
   "metadata": {
    "collapsed": true
   },
   "outputs": [],
   "source": [
    "csv = CSVUploader()\n",
    "csv"
   ]
  },
  {
   "cell_type": "code",
   "execution_count": 11,
   "metadata": {
    "collapsed": false
   },
   "outputs": [],
   "source": [
    "display.display_html(csv)"
   ]
  },
  {
   "cell_type": "code",
   "execution_count": 17,
   "metadata": {
    "collapsed": true
   },
   "outputs": [],
   "source": [
    "uploader"
   ]
  },
  {
   "cell_type": "code",
   "execution_count": 18,
   "metadata": {
    "collapsed": false
   },
   "outputs": [
    {
     "data": {
      "text/html": [
       "<a href=\"http://example.com\">link</a>"
      ],
      "text/plain": [
       "<IPython.core.display.HTML object>"
      ]
     },
     "metadata": {},
     "output_type": "execute_result"
    }
   ],
   "source": [
    "%%html\n",
    "<a href=\"http://example.com\">link</a>"
   ]
  },
  {
   "cell_type": "code",
   "execution_count": 19,
   "metadata": {
    "collapsed": true
   },
   "outputs": [],
   "source": [
    "BaseUploaderWidget()"
   ]
  },
  {
   "cell_type": "code",
   "execution_count": null,
   "metadata": {
    "collapsed": true
   },
   "outputs": [],
   "source": [
    ""
   ]
  }
 ],
 "metadata": {
  "kernelspec": {
   "display_name": "Python 3",
   "language": "python",
   "name": "python3"
  },
  "language_info": {
   "codemirror_mode": {
    "name": "ipython",
    "version": 3.0
   },
   "file_extension": ".py",
   "mimetype": "text/x-python",
   "name": "python",
   "nbconvert_exporter": "python",
   "pygments_lexer": "ipython3",
   "version": "3.5.2"
  }
 },
 "nbformat": 4,
 "nbformat_minor": 0
}